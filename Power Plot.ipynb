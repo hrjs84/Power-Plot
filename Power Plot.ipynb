{
 "cells": [
  {
   "cell_type": "code",
   "execution_count": 1,
   "metadata": {},
   "outputs": [],
   "source": [
    "import glob\n",
    "import pandas as pd\n",
    "import plotly.graph_objects as go"
   ]
  },
  {
   "cell_type": "code",
   "execution_count": 2,
   "metadata": {},
   "outputs": [],
   "source": [
    "class DataSet():\n",
    "    def __init__(self,set_name,path):\n",
    "        self.set_name = set_name\n",
    "        self.path = path\n",
    "        self.files = []\n",
    "        self.frames = []\n",
    "        self.big_data = []\n",
    "        self.fig = go.Figure()\n",
    "        self.num_plots = 0\n",
    "        \n",
    "        self.build()\n",
    "\n",
    "    def build(self):\n",
    "        self.fig.update_layout(title=self.set_name)\n",
    "        print('Searching for files...')\n",
    "        # Populate self.files with paths of all .csv files in path directory\n",
    "        for file in glob.glob(self.path + \"\\\\*.csv\"):\n",
    "            self.files.append(file)\n",
    "        print('Found ', str(len(self.files)), 'files!\\n')\n",
    "        \n",
    "        print('Reading File Data...')\n",
    "        # Read all files in self.files to dataframes in self.frames after\n",
    "        # dropping first two rows of zeros\n",
    "        for i in range(len(self.files)):\n",
    "            curr_frame = pd.read_csv(self.files[i])\n",
    "            curr_frame = curr_frame.drop([0,1])\n",
    "            self.frames.append(curr_frame)\n",
    "        print('Reading complete!\\n')\n",
    "        \n",
    "        print('Combining file data...')\n",
    "        # Concatenate all dataframes in self.frames into a big frame in self.bigData\n",
    "        self.big_data = pd.concat(self.frames)\n",
    "        # Sort by reference time\n",
    "        self.big_data = self.big_data.sort_values(' Reference_time1')\n",
    "        # Reset frame index values\n",
    "        self.big_data = self.big_data.reset_index(drop=True)\n",
    "        print('Data combination complete!\\n')\n",
    "        \n",
    "    def add_plot(self,axis1,axis2,color):\n",
    "        self.num_plots+=1\n",
    "        print('Adding plot'+ axis2 + ' vs.' + axis1 + ' as plot '+ str(self.num_plots) +'...')\n",
    "        # Create line plot of axis1 vs axis 2\n",
    "        self.fig.add_trace(\n",
    "            go.Scattergl(\n",
    "                x = self.big_data[axis1],\n",
    "                y = self.big_data[axis2],\n",
    "                mode = 'lines',\n",
    "                name = axis2,\n",
    "                line=dict(color=color),\n",
    "                showlegend=True\n",
    "            )\n",
    "        )\n",
    "        print('Done!\\n')\n",
    "        \n",
    "    def show(self):\n",
    "        print('Showing plots...')\n",
    "        # Show current figure\n",
    "        self.fig.show()\n",
    "        print('Done!\\n')\n",
    "        \n",
    "    def export_figure(self,file):\n",
    "        print('Exporting figure to HTML...')\n",
    "        # Send current figure to given HTML file in cwd\n",
    "        self.fig.write_html(file,\n",
    "                            include_plotlyjs='cdn',\n",
    "                            include_mathjax='cdn',\n",
    "                            auto_open=True)\n",
    "        print('Done!\\n')\n",
    "        \n",
    "    def clear_fig(self):\n",
    "        print('Clearing figure...')\n",
    "        # Clear current figure\n",
    "        self.num_plots=0\n",
    "        self.fig.data=[]\n",
    "        print('Done!\\n')\n",
    "        \n",
    "    def export_bigdata(self):\n",
    "        print('Exporting bigdata file...')\n",
    "        # Output self.big_data to a .csv in a zip folder in cwd\n",
    "        compression_opts = dict(method='zip',\n",
    "                                archive_name='big_data.csv')  \n",
    "        self.big_data.to_csv(self.set_name+'.zip', index=False,compression=compression_opts)\n",
    "        print('Output complete!\\n')"
   ]
  },
  {
   "cell_type": "code",
   "execution_count": 3,
   "metadata": {},
   "outputs": [
    {
     "name": "stdout",
     "output_type": "stream",
     "text": [
      "Searching for files...\n",
      "Found  18 files!\n",
      "\n",
      "Reading File Data...\n",
      "Reading complete!\n",
      "\n",
      "Combining file data...\n",
      "Data combination complete!\n",
      "\n"
     ]
    }
   ],
   "source": [
    "path = \"C:\\\\Users\\\\hunte\\\\OneDrive - BYU\\\\Documents\\\\Github\\\\Power-Plot\\\\power_data\\\\2020_Power_Data\\\\8_6\"\n",
    "new_data = DataSet('8-6 Etch',path)"
   ]
  },
  {
   "cell_type": "code",
   "execution_count": 4,
   "metadata": {},
   "outputs": [
    {
     "name": "stdout",
     "output_type": "stream",
     "text": [
      "Adding plot Reference Power vs. Reference_time1 as plot 1...\n",
      "Done!\n",
      "\n",
      "Exporting figure to HTML...\n",
      "Done!\n",
      "\n"
     ]
    }
   ],
   "source": [
    "new_data.add_plot(' Reference_time1', ' Reference Power','red')\n",
    "new_data.export_figure('8-6 Reference Power.html')"
   ]
  },
  {
   "cell_type": "code",
   "execution_count": 5,
   "metadata": {},
   "outputs": [
    {
     "name": "stdout",
     "output_type": "stream",
     "text": [
      "Clearing figure...\n",
      "Done!\n",
      "\n",
      "Adding plot Confocal Power vs. Confocal_time as plot 1...\n",
      "Done!\n",
      "\n",
      "Exporting figure to HTML...\n",
      "Done!\n",
      "\n"
     ]
    }
   ],
   "source": [
    "new_data.clear_fig()\n",
    "new_data.add_plot(' Confocal_time',' Confocal Power','blue')\n",
    "new_data.export_figure('8-6 Confocal Power.html')"
   ]
  }
 ],
 "metadata": {
  "kernelspec": {
   "display_name": "Python 3",
   "language": "python",
   "name": "python3"
  },
  "language_info": {
   "codemirror_mode": {
    "name": "ipython",
    "version": 3
   },
   "file_extension": ".py",
   "mimetype": "text/x-python",
   "name": "python",
   "nbconvert_exporter": "python",
   "pygments_lexer": "ipython3",
   "version": "3.7.6"
  }
 },
 "nbformat": 4,
 "nbformat_minor": 4
}
